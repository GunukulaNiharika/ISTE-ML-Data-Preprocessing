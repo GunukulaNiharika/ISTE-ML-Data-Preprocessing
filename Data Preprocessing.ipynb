{
 "cells": [
  {
   "cell_type": "code",
   "execution_count": 232,
   "metadata": {},
   "outputs": [
    {
     "data": {
      "text/html": [
       "<div>\n",
       "<style scoped>\n",
       "    .dataframe tbody tr th:only-of-type {\n",
       "        vertical-align: middle;\n",
       "    }\n",
       "\n",
       "    .dataframe tbody tr th {\n",
       "        vertical-align: top;\n",
       "    }\n",
       "\n",
       "    .dataframe thead th {\n",
       "        text-align: right;\n",
       "    }\n",
       "</style>\n",
       "<table border=\"1\" class=\"dataframe\">\n",
       "  <thead>\n",
       "    <tr style=\"text-align: right;\">\n",
       "      <th></th>\n",
       "      <th>PassengerId</th>\n",
       "      <th>Survived</th>\n",
       "      <th>Pclass</th>\n",
       "      <th>Name</th>\n",
       "      <th>Sex</th>\n",
       "      <th>Age</th>\n",
       "      <th>SibSp</th>\n",
       "      <th>Parch</th>\n",
       "      <th>Ticket</th>\n",
       "      <th>Fare</th>\n",
       "      <th>Cabin</th>\n",
       "      <th>Embarked</th>\n",
       "      <th>Unnamed: 12</th>\n",
       "      <th>Unnamed: 13</th>\n",
       "      <th>Unnamed: 14</th>\n",
       "      <th>Unnamed: 15</th>\n",
       "      <th>Unnamed: 16</th>\n",
       "      <th>Unnamed: 17</th>\n",
       "    </tr>\n",
       "  </thead>\n",
       "  <tbody>\n",
       "    <tr>\n",
       "      <th>0</th>\n",
       "      <td>1</td>\n",
       "      <td>0.0</td>\n",
       "      <td>3.0</td>\n",
       "      <td>Braund, Mr. Owen Harris</td>\n",
       "      <td>male</td>\n",
       "      <td>22.0</td>\n",
       "      <td>1.0</td>\n",
       "      <td>0.0</td>\n",
       "      <td>A/5 21171</td>\n",
       "      <td>7.2500</td>\n",
       "      <td>NaN</td>\n",
       "      <td>S</td>\n",
       "      <td>NaN</td>\n",
       "      <td>NaN</td>\n",
       "      <td>NaN</td>\n",
       "      <td>NaN</td>\n",
       "      <td>NaN</td>\n",
       "      <td>NaN</td>\n",
       "    </tr>\n",
       "    <tr>\n",
       "      <th>1</th>\n",
       "      <td>2</td>\n",
       "      <td>1.0</td>\n",
       "      <td>1.0</td>\n",
       "      <td>Cumings, Mrs. John Bradley (Florence Briggs Th...</td>\n",
       "      <td>female</td>\n",
       "      <td>38.0</td>\n",
       "      <td>1.0</td>\n",
       "      <td>0.0</td>\n",
       "      <td>PC 17599</td>\n",
       "      <td>71.2833</td>\n",
       "      <td>C85</td>\n",
       "      <td>C</td>\n",
       "      <td>NaN</td>\n",
       "      <td>NaN</td>\n",
       "      <td>NaN</td>\n",
       "      <td>NaN</td>\n",
       "      <td>NaN</td>\n",
       "      <td>NaN</td>\n",
       "    </tr>\n",
       "    <tr>\n",
       "      <th>2</th>\n",
       "      <td>3</td>\n",
       "      <td>1.0</td>\n",
       "      <td>3.0</td>\n",
       "      <td>Heikkinen, Miss. Laina</td>\n",
       "      <td>female</td>\n",
       "      <td>26.0</td>\n",
       "      <td>0.0</td>\n",
       "      <td>0.0</td>\n",
       "      <td>STON/O2. 3101282</td>\n",
       "      <td>7.9250</td>\n",
       "      <td>NaN</td>\n",
       "      <td>S</td>\n",
       "      <td>NaN</td>\n",
       "      <td>NaN</td>\n",
       "      <td>NaN</td>\n",
       "      <td>NaN</td>\n",
       "      <td>NaN</td>\n",
       "      <td>NaN</td>\n",
       "    </tr>\n",
       "    <tr>\n",
       "      <th>3</th>\n",
       "      <td>4</td>\n",
       "      <td>1.0</td>\n",
       "      <td>1.0</td>\n",
       "      <td>Futrelle, Mrs. Jacques Heath (Lily May Peel)</td>\n",
       "      <td>female</td>\n",
       "      <td>35.0</td>\n",
       "      <td>1.0</td>\n",
       "      <td>0.0</td>\n",
       "      <td>113803</td>\n",
       "      <td>53.1000</td>\n",
       "      <td>C123</td>\n",
       "      <td>S</td>\n",
       "      <td>NaN</td>\n",
       "      <td>NaN</td>\n",
       "      <td>NaN</td>\n",
       "      <td>NaN</td>\n",
       "      <td>NaN</td>\n",
       "      <td>NaN</td>\n",
       "    </tr>\n",
       "    <tr>\n",
       "      <th>4</th>\n",
       "      <td>5</td>\n",
       "      <td>0.0</td>\n",
       "      <td>3.0</td>\n",
       "      <td>Allen, Mr. William Henry</td>\n",
       "      <td>male</td>\n",
       "      <td>35.0</td>\n",
       "      <td>0.0</td>\n",
       "      <td>0.0</td>\n",
       "      <td>373450</td>\n",
       "      <td>8.0500</td>\n",
       "      <td>NaN</td>\n",
       "      <td>S</td>\n",
       "      <td>NaN</td>\n",
       "      <td>NaN</td>\n",
       "      <td>NaN</td>\n",
       "      <td>NaN</td>\n",
       "      <td>NaN</td>\n",
       "      <td>NaN</td>\n",
       "    </tr>\n",
       "  </tbody>\n",
       "</table>\n",
       "</div>"
      ],
      "text/plain": [
       "   PassengerId  Survived  Pclass  \\\n",
       "0            1       0.0     3.0   \n",
       "1            2       1.0     1.0   \n",
       "2            3       1.0     3.0   \n",
       "3            4       1.0     1.0   \n",
       "4            5       0.0     3.0   \n",
       "\n",
       "                                                Name     Sex   Age  SibSp  \\\n",
       "0                            Braund, Mr. Owen Harris    male  22.0    1.0   \n",
       "1  Cumings, Mrs. John Bradley (Florence Briggs Th...  female  38.0    1.0   \n",
       "2                             Heikkinen, Miss. Laina  female  26.0    0.0   \n",
       "3       Futrelle, Mrs. Jacques Heath (Lily May Peel)  female  35.0    1.0   \n",
       "4                           Allen, Mr. William Henry    male  35.0    0.0   \n",
       "\n",
       "   Parch            Ticket     Fare Cabin Embarked  Unnamed: 12  Unnamed: 13  \\\n",
       "0    0.0         A/5 21171   7.2500   NaN        S          NaN          NaN   \n",
       "1    0.0          PC 17599  71.2833   C85        C          NaN          NaN   \n",
       "2    0.0  STON/O2. 3101282   7.9250   NaN        S          NaN          NaN   \n",
       "3    0.0            113803  53.1000  C123        S          NaN          NaN   \n",
       "4    0.0            373450   8.0500   NaN        S          NaN          NaN   \n",
       "\n",
       "   Unnamed: 14  Unnamed: 15  Unnamed: 16  Unnamed: 17  \n",
       "0          NaN          NaN          NaN          NaN  \n",
       "1          NaN          NaN          NaN          NaN  \n",
       "2          NaN          NaN          NaN          NaN  \n",
       "3          NaN          NaN          NaN          NaN  \n",
       "4          NaN          NaN          NaN          NaN  "
      ]
     },
     "execution_count": 232,
     "metadata": {},
     "output_type": "execute_result"
    }
   ],
   "source": [
    "import pandas as pd\n",
    "df=pd.read_csv('Titanic_ISTE.csv')\n",
    "df.head()\n"
   ]
  },
  {
   "cell_type": "code",
   "execution_count": 233,
   "metadata": {},
   "outputs": [
    {
     "data": {
      "text/plain": [
       "Index(['PassengerId', 'Survived', 'Pclass', 'Name', 'Sex', 'Age', 'SibSp',\n",
       "       'Parch', 'Ticket', 'Fare', 'Cabin', 'Embarked', 'Unnamed: 12',\n",
       "       'Unnamed: 13', 'Unnamed: 14', 'Unnamed: 15', 'Unnamed: 16',\n",
       "       'Unnamed: 17'],\n",
       "      dtype='object')"
      ]
     },
     "execution_count": 233,
     "metadata": {},
     "output_type": "execute_result"
    }
   ],
   "source": [
    "df.columns"
   ]
  },
  {
   "cell_type": "code",
   "execution_count": 234,
   "metadata": {},
   "outputs": [
    {
     "data": {
      "text/plain": [
       "PassengerId      int64\n",
       "Survived       float64\n",
       "Pclass         float64\n",
       "Name            object\n",
       "Sex             object\n",
       "Age            float64\n",
       "SibSp          float64\n",
       "Parch          float64\n",
       "Ticket          object\n",
       "Fare           float64\n",
       "Cabin           object\n",
       "Embarked        object\n",
       "Unnamed: 12    float64\n",
       "Unnamed: 13    float64\n",
       "Unnamed: 14    float64\n",
       "Unnamed: 15    float64\n",
       "Unnamed: 16    float64\n",
       "Unnamed: 17    float64\n",
       "dtype: object"
      ]
     },
     "execution_count": 234,
     "metadata": {},
     "output_type": "execute_result"
    }
   ],
   "source": [
    "df.dtypes #to get the data type of the column"
   ]
  },
  {
   "cell_type": "markdown",
   "metadata": {},
   "source": [
    "### 1.Find  how much the output is dependent on each features using"
   ]
  },
  {
   "cell_type": "markdown",
   "metadata": {},
   "source": [
    "## a. Correlation"
   ]
  },
  {
   "cell_type": "code",
   "execution_count": 235,
   "metadata": {},
   "outputs": [
    {
     "name": "stdout",
     "output_type": "stream",
     "text": [
      "Pclass:-0.34123611997757003\n"
     ]
    }
   ],
   "source": [
    "col1=df['Survived']#output column\n",
    "col2=df['Pclass']\n",
    "correlation=col2.corr(col1)#calculate correlation between `column_1` and `column_2`\n",
    "print(\"Pclass:\"+str(correlation))\n"
   ]
  },
  {
   "cell_type": "code",
   "execution_count": 236,
   "metadata": {},
   "outputs": [
    {
     "name": "stdout",
     "output_type": "stream",
     "text": [
      "Age:-0.07885930007180811\n"
     ]
    }
   ],
   "source": [
    "col2=df['Age']\n",
    "correlation1=col2.corr(col1)\n",
    "print(\"Age:\"+str(correlation1))\n"
   ]
  },
  {
   "cell_type": "code",
   "execution_count": 237,
   "metadata": {},
   "outputs": [
    {
     "name": "stdout",
     "output_type": "stream",
     "text": [
      "SibSp:-0.03476026217335815\n"
     ]
    }
   ],
   "source": [
    "col2=df['SibSp']\n",
    "correlation1=col2.corr(col1)\n",
    "print(\"SibSp:\"+str(correlation1))\n"
   ]
  },
  {
   "cell_type": "code",
   "execution_count": 238,
   "metadata": {},
   "outputs": [
    {
     "name": "stdout",
     "output_type": "stream",
     "text": [
      "Parch:0.08177609101276331\n"
     ]
    }
   ],
   "source": [
    "col2=df['Parch']\n",
    "correlation1=col2.corr(col1)\n",
    "print(\"Parch:\"+str(correlation1))\n"
   ]
  },
  {
   "cell_type": "code",
   "execution_count": 239,
   "metadata": {},
   "outputs": [
    {
     "name": "stdout",
     "output_type": "stream",
     "text": [
      "Fare:0.2590131520302958\n"
     ]
    }
   ],
   "source": [
    "col2=df['Fare']\n",
    "correlation1=col2.corr(col1)\n",
    "print(\"Fare:\"+str(correlation1))"
   ]
  },
  {
   "cell_type": "markdown",
   "metadata": {},
   "source": [
    "## b. Chi Square"
   ]
  },
  {
   "cell_type": "markdown",
   "metadata": {},
   "source": [
    "the absolute value of correlation closer to 1 means they are dependent while closer to 0 means they dont have any relationship/dependency"
   ]
  },
  {
   "cell_type": "code",
   "execution_count": 240,
   "metadata": {},
   "outputs": [
    {
     "name": "stdout",
     "output_type": "stream",
     "text": [
      "Survived  0.0  1.0\n",
      "Pclass            \n",
      "1.0        80  136\n",
      "2.0        97   87\n",
      "3.0       371  117\n",
      "The P-Value of the ChiSq Test is: 2.2842186475599623e-23\n"
     ]
    }
   ],
   "source": [
    "CrosstabResult=pd.crosstab(index=df['Pclass'],columns=df['Survived'])\n",
    "print(CrosstabResult)\n",
    "\n",
    "# importing the required function\n",
    "from scipy.stats import chi2_contingency\n",
    "\n",
    "# Performing Chi-sq test\n",
    "ChiSqResult = chi2_contingency(CrosstabResult)\n",
    "\n",
    "# P-Value is the Probability of H0 being True\n",
    "# If P-Value>0.05 then only we Accept the assumption(H0)\n",
    "\n",
    "print('The P-Value of the ChiSq Test is:', ChiSqResult[1])\n"
   ]
  },
  {
   "cell_type": "code",
   "execution_count": 241,
   "metadata": {},
   "outputs": [
    {
     "name": "stdout",
     "output_type": "stream",
     "text": [
      "Survived  0.0  1.0\n",
      "Age               \n",
      "0.42        0    1\n",
      "0.67        0    1\n",
      "0.75        0    2\n",
      "0.83        0    2\n",
      "0.92        0    1\n",
      "...       ...  ...\n",
      "70.00       2    0\n",
      "70.50       1    0\n",
      "71.00       2    0\n",
      "74.00       1    0\n",
      "80.00       0    1\n",
      "\n",
      "[88 rows x 2 columns]\n",
      "The P-Value of the ChiSq Test is: 0.08371525224381583\n"
     ]
    }
   ],
   "source": [
    "CrosstabResult=pd.crosstab(index=df['Age'],columns=df['Survived'])\n",
    "print(CrosstabResult)\n",
    "\n",
    "ChiSqResult = chi2_contingency(CrosstabResult)\n",
    "print('The P-Value of the ChiSq Test is:', ChiSqResult[1])"
   ]
  },
  {
   "cell_type": "code",
   "execution_count": 242,
   "metadata": {},
   "outputs": [
    {
     "name": "stdout",
     "output_type": "stream",
     "text": [
      "Survived  0.0  1.0\n",
      "SibSp             \n",
      "0.0       398  209\n",
      "1.0        97  112\n",
      "2.0        15   13\n",
      "3.0        12    3\n",
      "4.0        15    3\n",
      "5.0         4    0\n",
      "8.0         7    0\n",
      "The P-Value of the ChiSq Test is: 1.2168985272205909e-06\n"
     ]
    }
   ],
   "source": [
    "CrosstabResult=pd.crosstab(index=df['SibSp'],columns=df['Survived'])\n",
    "print(CrosstabResult)\n",
    "\n",
    "ChiSqResult = chi2_contingency(CrosstabResult)\n",
    "print('The P-Value of the ChiSq Test is:', ChiSqResult[1])"
   ]
  },
  {
   "cell_type": "code",
   "execution_count": 243,
   "metadata": {},
   "outputs": [
    {
     "name": "stdout",
     "output_type": "stream",
     "text": [
      "Survived  0.0  1.0\n",
      "Parch             \n",
      "0.0       444  231\n",
      "1.0        53   64\n",
      "2.0        40   40\n",
      "3.0         2    3\n",
      "4.0         4    0\n",
      "5.0         4    1\n",
      "6.0         1    0\n",
      "The P-Value of the ChiSq Test is: 0.00011516516080127263\n"
     ]
    }
   ],
   "source": [
    "CrosstabResult=pd.crosstab(index=df['Parch'],columns=df['Survived'])\n",
    "print(CrosstabResult)\n",
    "\n",
    "ChiSqResult = chi2_contingency(CrosstabResult)\n",
    "print('The P-Value of the ChiSq Test is:', ChiSqResult[1])"
   ]
  },
  {
   "cell_type": "code",
   "execution_count": 244,
   "metadata": {},
   "outputs": [
    {
     "name": "stdout",
     "output_type": "stream",
     "text": [
      "Survived  0.0  1.0\n",
      "Fare              \n",
      "0.0000     14    1\n",
      "4.0125      1    0\n",
      "5.0000      1    0\n",
      "6.2375      1    0\n",
      "6.4375      1    0\n",
      "...       ...  ...\n",
      "227.5250    1    3\n",
      "247.5208    1    1\n",
      "262.3750    0    2\n",
      "263.0000    2    2\n",
      "512.3292    0    3\n",
      "\n",
      "[248 rows x 2 columns]\n",
      "The P-Value of the ChiSq Test is: 8.966050015695972e-12\n"
     ]
    }
   ],
   "source": [
    "CrosstabResult=pd.crosstab(index=df['Fare'],columns=df['Survived'])\n",
    "print(CrosstabResult)\n",
    "\n",
    "ChiSqResult = chi2_contingency(CrosstabResult)\n",
    "print('The P-Value of the ChiSq Test is:', ChiSqResult[1])"
   ]
  },
  {
   "cell_type": "markdown",
   "metadata": {},
   "source": [
    "### 2. Perform necessary operation for avoid missing values in data  for each column .state reason for your selection of the particular operation."
   ]
  },
  {
   "cell_type": "code",
   "execution_count": 245,
   "metadata": {
    "scrolled": true
   },
   "outputs": [
    {
     "data": {
      "text/plain": [
       "<matplotlib.axes._subplots.AxesSubplot at 0x7f12696f2310>"
      ]
     },
     "execution_count": 245,
     "metadata": {},
     "output_type": "execute_result"
    },
    {
     "data": {
      "image/png": "[encoded data removed]",
      "text/plain": [
       "<Figure size 1800x720 with 2 Axes>"
      ]
     },
     "metadata": {
      "needs_background": "light"
     },
     "output_type": "display_data"
    }
   ],
   "source": [
    "import missingno as msno\n",
    "msno.matrix(df)"
   ]
  },
  {
   "cell_type": "code",
   "execution_count": 246,
   "metadata": {},
   "outputs": [
    {
     "name": "stdout",
     "output_type": "stream",
     "text": [
      "PassengerId - 0\n",
      "Survived - 2\n",
      "Pclass - 1\n",
      "Name - 0\n",
      "Sex - 10\n",
      "Age - 179\n",
      "SibSp - 1\n",
      "Parch - 2\n",
      "Ticket - 0\n",
      "Fare - 0\n",
      "Cabin - 687\n",
      "Embarked - 2\n",
      "Unnamed: 12 - 891\n",
      "Unnamed: 13 - 891\n",
      "Unnamed: 14 - 891\n",
      "Unnamed: 15 - 891\n",
      "Unnamed: 16 - 891\n",
      "Unnamed: 17 - 890\n"
     ]
    }
   ],
   "source": [
    "column_names = df.columns\n",
    "for column in column_names:\n",
    "    print(column + ' - ' + str(df[column].isnull().sum()))"
   ]
  },
  {
   "cell_type": "code",
   "execution_count": 247,
   "metadata": {},
   "outputs": [
    {
     "data": {
      "text/plain": [
       "<matplotlib.axes._subplots.AxesSubplot at 0x7f1269635130>"
      ]
     },
     "execution_count": 247,
     "metadata": {},
     "output_type": "execute_result"
    },
    {
     "data": {
      "image/png": "[encoded data removed]",
      "text/plain": [
       "<Figure size 1800x720 with 2 Axes>"
      ]
     },
     "metadata": {
      "needs_background": "light"
     },
     "output_type": "display_data"
    }
   ],
   "source": [
    "import numpy as np\n",
    "#rplacing null values with using mode or mean or median\n",
    "df['Sex'].fillna(df['Sex'].mode()[0], inplace=True)\n",
    "df[\"Age\"] = df[\"Age\"].replace(np.NaN, df[\"Age\"].mean())\n",
    "df['SibSp'].fillna(df['SibSp'].mode()[0], inplace=True)\n",
    "df['Parch'].fillna(df['Parch'].mode()[0], inplace=True)\n",
    "df['Embarked'].fillna(df['Embarked'].mode()[0], inplace=True)\n",
    "#dropping columns that are not required\n",
    "df.drop(columns=['PassengerId'],inplace=True)\n",
    "df.drop(columns=['Ticket'],inplace=True)\n",
    "df.drop(columns=['Cabin'],inplace=True)\n",
    "df.drop(columns=['Unnamed: 12'],inplace=True)\n",
    "df.drop(columns=['Unnamed: 13'],inplace=True)\n",
    "df.drop(columns=['Unnamed: 14'],inplace=True)\n",
    "df.drop(columns=['Unnamed: 15'],inplace=True)\n",
    "df.drop(columns=['Unnamed: 16'],inplace=True)\n",
    "df.drop(columns=['Unnamed: 17'],inplace=True)\n",
    "\n",
    "msno.matrix(df)\n"
   ]
  },
  {
   "cell_type": "markdown",
   "metadata": {},
   "source": [
    "### 3. Perform categorical encoding."
   ]
  },
  {
   "cell_type": "code",
   "execution_count": 248,
   "metadata": {},
   "outputs": [
    {
     "name": "stdout",
     "output_type": "stream",
     "text": [
      "     Survived  Pclass                                               Name  Sex  \\\n",
      "0         0.0     3.0                            Braund, Mr. Owen Harris    0   \n",
      "1         1.0     1.0  Cumings, Mrs. John Bradley (Florence Briggs Th...    1   \n",
      "2         1.0     3.0                             Heikkinen, Miss. Laina    1   \n",
      "3         1.0     1.0       Futrelle, Mrs. Jacques Heath (Lily May Peel)    1   \n",
      "4         0.0     3.0                           Allen, Mr. William Henry    0   \n",
      "..        ...     ...                                                ...  ...   \n",
      "886       0.0     2.0                              Montvila, Rev. Juozas    0   \n",
      "887       1.0     1.0                       Graham, Miss. Margaret Edith    1   \n",
      "888       0.0     3.0           Johnston, Miss. Catherine Helen \"Carrie\"    1   \n",
      "889       1.0     1.0                              Behr, Mr. Karl Howell    0   \n",
      "890       0.0     3.0                                Dooley, Mr. Patrick    0   \n",
      "\n",
      "           Age  SibSp  Parch     Fare Embarked  \n",
      "0    22.000000    1.0    0.0   7.2500        S  \n",
      "1    38.000000    1.0    0.0  71.2833        C  \n",
      "2    26.000000    0.0    0.0   7.9250        S  \n",
      "3    35.000000    1.0    0.0  53.1000        S  \n",
      "4    35.000000    0.0    0.0   8.0500        S  \n",
      "..         ...    ...    ...      ...      ...  \n",
      "886  27.000000    0.0    0.0  13.0000        S  \n",
      "887  19.000000    0.0    0.0  30.0000        S  \n",
      "888  29.675801    1.0    2.0  23.4500        S  \n",
      "889  26.000000    0.0    0.0  30.0000        C  \n",
      "890  32.000000    0.0    0.0   7.7500        Q  \n",
      "\n",
      "[891 rows x 9 columns]\n"
     ]
    }
   ],
   "source": [
    "#categorical encoding\n",
    "import category_encoders as ce\n",
    "encoder=ce.OrdinalEncoder(cols=['Sex'],return_df=True,mapping=[{'col':'Sex',\n",
    "'mapping':{'male':0,'female':1}}])\n",
    "df_transformed=encoder.fit_transform(df)\n",
    "print(df_transformed)\n"
   ]
  },
  {
   "cell_type": "code",
   "execution_count": 249,
   "metadata": {},
   "outputs": [
    {
     "name": "stdout",
     "output_type": "stream",
     "text": [
      "     Survived  Pclass                                               Name  Sex  \\\n",
      "0         0.0     3.0                            Braund, Mr. Owen Harris    0   \n",
      "1         1.0     1.0  Cumings, Mrs. John Bradley (Florence Briggs Th...    1   \n",
      "2         1.0     3.0                             Heikkinen, Miss. Laina    1   \n",
      "3         1.0     1.0       Futrelle, Mrs. Jacques Heath (Lily May Peel)    1   \n",
      "4         0.0     3.0                           Allen, Mr. William Henry    0   \n",
      "..        ...     ...                                                ...  ...   \n",
      "886       0.0     2.0                              Montvila, Rev. Juozas    0   \n",
      "887       1.0     1.0                       Graham, Miss. Margaret Edith    1   \n",
      "888       0.0     3.0           Johnston, Miss. Catherine Helen \"Carrie\"    1   \n",
      "889       1.0     1.0                              Behr, Mr. Karl Howell    0   \n",
      "890       0.0     3.0                                Dooley, Mr. Patrick    0   \n",
      "\n",
      "           Age  SibSp  Parch     Fare  Embarked  \n",
      "0    22.000000    1.0    0.0   7.2500         2  \n",
      "1    38.000000    1.0    0.0  71.2833         0  \n",
      "2    26.000000    0.0    0.0   7.9250         2  \n",
      "3    35.000000    1.0    0.0  53.1000         2  \n",
      "4    35.000000    0.0    0.0   8.0500         2  \n",
      "..         ...    ...    ...      ...       ...  \n",
      "886  27.000000    0.0    0.0  13.0000         2  \n",
      "887  19.000000    0.0    0.0  30.0000         2  \n",
      "888  29.675801    1.0    2.0  23.4500         2  \n",
      "889  26.000000    0.0    0.0  30.0000         0  \n",
      "890  32.000000    0.0    0.0   7.7500         1  \n",
      "\n",
      "[891 rows x 9 columns]\n"
     ]
    }
   ],
   "source": [
    "encoder=ce.OrdinalEncoder(cols=['Embarked'],return_df=True,mapping=[{'col':'Embarked',\n",
    "'mapping':{'C':0, 'Q':1, 'S':2}}])\n",
    "df_transformed1=encoder.fit_transform(df_transformed)\n",
    "print(df_transformed1)\n"
   ]
  },
  {
   "cell_type": "markdown",
   "metadata": {},
   "source": [
    "### 4. Perform  feature scaling ."
   ]
  },
  {
   "cell_type": "code",
   "execution_count": 250,
   "metadata": {},
   "outputs": [],
   "source": [
    "#feature Scaling\n",
    "from sklearn.preprocessing import StandardScaler\n",
    "X = df_transformed1.iloc[:, :].values\n",
    "\n",
    "sc = StandardScaler()\n",
    "X[:,3:] = sc.fit_transform(X[:,3:])"
   ]
  },
  {
   "cell_type": "code",
   "execution_count": 251,
   "metadata": {},
   "outputs": [
    {
     "name": "stdout",
     "output_type": "stream",
     "text": [
      "[[0.0 3.0 'Braund, Mr. Owen Harris' ... -0.4723776458415312\n",
      "  -0.5024451714361923 0.5859541426526597]\n",
      " [1.0 1.0 'Cumings, Mrs. John Bradley (Florence Briggs Thayer)' ...\n",
      "  -0.4723776458415312 0.7868452935884461 -1.942303199253005]\n",
      " [1.0 3.0 'Heikkinen, Miss. Laina' ... -0.4723776458415312\n",
      "  -0.4888542575852486 0.5859541426526597]\n",
      " ...\n",
      " [0.0 3.0 'Johnston, Miss. Catherine Helen \"Carrie\"' ...\n",
      "  2.0107402446882876 -0.17626323901354432 0.5859541426526597]\n",
      " [1.0 1.0 'Behr, Mr. Karl Howell' ... -0.4723776458415312\n",
      "  -0.04438103794142432 -1.942303199253005]\n",
      " [0.0 3.0 'Dooley, Mr. Patrick' ... -0.4723776458415312\n",
      "  -0.49237782784290063 -0.6781745283001727]]\n"
     ]
    }
   ],
   "source": [
    "print(X)"
   ]
  }
 ],
 "metadata": {
  "kernelspec": {
   "display_name": "Python 3",
   "language": "python",
   "name": "python3"
  },
  "language_info": {
   "codemirror_mode": {
    "name": "ipython",
    "version": 3
   },
   "file_extension": ".py",
   "mimetype": "text/x-python",
   "name": "python",
   "nbconvert_exporter": "python",
   "pygments_lexer": "ipython3",
   "version": "3.8.3"
  }
 },
 "nbformat": 4,
 "nbformat_minor": 4
}
